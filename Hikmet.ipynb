{
 "cells": [
  {
   "metadata": {},
   "cell_type": "markdown",
   "source": "# Strings and Working with Textual Data",
   "id": "4b130aa1e9e63c5b"
  },
  {
   "cell_type": "code",
   "id": "initial_id",
   "metadata": {
    "collapsed": true
   },
   "source": [
    "#normal printing\n",
    "print('Hello World')"
   ],
   "outputs": [],
   "execution_count": null
  },
  {
   "metadata": {},
   "cell_type": "code",
   "source": [
    "#string initialization\n",
    "message = 'Hello World'\n",
    "print(message)"
   ],
   "id": "2ec88ef20de01f1b",
   "outputs": [],
   "execution_count": null
  },
  {
   "metadata": {},
   "cell_type": "code",
   "source": [
    "#adding a single quota to a string\n",
    "message = \"Hello World\"\n",
    "print(message)"
   ],
   "id": "1307fd7b2b3efe9d",
   "outputs": [],
   "execution_count": null
  },
  {
   "metadata": {},
   "cell_type": "code",
   "source": "#some properties",
   "id": "c717eed4045ca5d7",
   "outputs": [],
   "execution_count": null
  },
  {
   "metadata": {},
   "cell_type": "markdown",
   "source": "",
   "id": "bbcfa58c8a92e22e"
  },
  {
   "metadata": {},
   "cell_type": "markdown",
   "source": "# Integers and Floats",
   "id": "32ddf417e7f386e0"
  },
  {
   "metadata": {},
   "cell_type": "code",
   "source": [
    "#Arithmetic Operators\n",
    "#Floor Division\n",
    "print(5 // 2)# = 2\n",
    "#Exponent\n",
    "print(5 ** 2)\n",
    "#Modulus\n",
    "print(5 % 2)#Remainder"
   ],
   "id": "5b747da43a18a45c",
   "outputs": [],
   "execution_count": null
  },
  {
   "metadata": {},
   "cell_type": "code",
   "source": [
    "#round\n",
    "print(round(2.78,1))"
   ],
   "id": "7a45bae85cc61e26",
   "outputs": [],
   "execution_count": null
  },
  {
   "metadata": {},
   "cell_type": "markdown",
   "source": "# Lists, Tuples, Sets",
   "id": "91ef93af44347f53"
  },
  {
   "metadata": {},
   "cell_type": "code",
   "source": [
    "HikmetSov = ['Naci', 'Fehmi', 'Şerif', 'Halim']\n",
    "\n",
    "print(HikmetSov)\n",
    "print(HikmetSov[0])\n",
    "print(HikmetSov[-1])\n",
    "print(HikmetSov[0:3])"
   ],
   "id": "72694769b8990479",
   "outputs": [],
   "execution_count": null
  },
  {
   "metadata": {},
   "cell_type": "code",
   "source": [
    "#append\n",
    "HikmetSov.append('Hikmet')\n",
    "print(HikmetSov)"
   ],
   "id": "f4c21580c47db616",
   "outputs": [],
   "execution_count": null
  },
  {
   "metadata": {},
   "cell_type": "code",
   "source": [
    "#extend\n",
    "HikmetSov.extend(['Hikmet'])\n",
    "HikmetSov2 = ['Hatice', 'Kasım']\n",
    "HikmetSov.extend(HikmetSov2)\n",
    "print(HikmetSov)\n",
    "print(HikmetSov[0])"
   ],
   "id": "158ccb52e37bafeb",
   "outputs": [],
   "execution_count": null
  },
  {
   "metadata": {},
   "cell_type": "code",
   "source": [
    "#insert\n",
    "HikmetSov.insert(0,'Hikmet')\n",
    "HikmetSov2 = ['Hatice', 'Kasım']\n",
    "HikmetSov.insert(0,HikmetSov2)\n",
    "print(HikmetSov)\n"
   ],
   "id": "db23adb3d689c01d",
   "outputs": [],
   "execution_count": null
  },
  {
   "metadata": {
    "ExecuteTime": {
     "end_time": "2024-05-11T19:58:47.944509Z",
     "start_time": "2024-05-11T19:58:47.941915Z"
    }
   },
   "cell_type": "code",
   "source": [
    "#POP\n",
    "HikmetSov = ['Naci', 'Fehmi', 'Şerif', 'Halim']\n",
    "s_a = HikmetSov.pop()\n",
    "print(HikmetSov)\n",
    "print(s_a)"
   ],
   "id": "a3d3e9e18d08b53a",
   "outputs": [
    {
     "name": "stdout",
     "output_type": "stream",
     "text": [
      "['Naci', 'Fehmi', 'Şerif']\n",
      "Halim\n"
     ]
    }
   ],
   "execution_count": 36
  },
  {
   "metadata": {},
   "cell_type": "code",
   "outputs": [],
   "execution_count": null,
   "source": "",
   "id": "95104fb3940708bd"
  }
 ],
 "metadata": {
  "kernelspec": {
   "display_name": "Python 3",
   "language": "python",
   "name": "python3"
  },
  "language_info": {
   "codemirror_mode": {
    "name": "ipython",
    "version": 2
   },
   "file_extension": ".py",
   "mimetype": "text/x-python",
   "name": "python",
   "nbconvert_exporter": "python",
   "pygments_lexer": "ipython2",
   "version": "2.7.6"
  }
 },
 "nbformat": 4,
 "nbformat_minor": 5
}
